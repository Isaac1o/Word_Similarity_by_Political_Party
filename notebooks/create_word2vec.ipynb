{
 "cells": [
  {
   "cell_type": "code",
   "execution_count": 4,
   "metadata": {
    "collapsed": true
   },
   "outputs": [],
   "source": [
    "import numpy as np\n",
    "import pandas as pd\n",
    "from articles import *\n",
    "from gensim.models import Word2Vec\n",
    "import pickle\n",
    "from articles import *\n",
    "import spacy"
   ]
  },
  {
   "cell_type": "code",
   "execution_count": 5,
   "outputs": [],
   "source": [
    "sp = spacy.load('en_core_web_sm')"
   ],
   "metadata": {
    "collapsed": false,
    "pycharm": {
     "name": "#%%\n"
    }
   }
  },
  {
   "cell_type": "markdown",
   "source": [
    "# Process articles"
   ],
   "metadata": {
    "collapsed": false,
    "pycharm": {
     "name": "#%% md\n"
    }
   }
  },
  {
   "cell_type": "markdown",
   "source": [
    "## Liberal Articles"
   ],
   "metadata": {
    "collapsed": false,
    "pycharm": {
     "name": "#%% md\n"
    }
   }
  },
  {
   "cell_type": "code",
   "execution_count": 8,
   "outputs": [
    {
     "name": "stderr",
     "output_type": "stream",
     "text": [
      " 19% |#############                                                           |\r"
     ]
    },
    {
     "ename": "KeyboardInterrupt",
     "evalue": "",
     "output_type": "error",
     "traceback": [
      "\u001B[0;31m---------------------------------------------------------------------------\u001B[0m",
      "\u001B[0;31mKeyboardInterrupt\u001B[0m                         Traceback (most recent call last)",
      "\u001B[0;32m/var/folders/50/cgfcx8d97_52qyt5jj7jf52w0000gn/T/ipykernel_71987/1576342045.py\u001B[0m in \u001B[0;36m<module>\u001B[0;34m\u001B[0m\n\u001B[0;32m----> 1\u001B[0;31m \u001B[0mliberal_formatted_articles\u001B[0m \u001B[0;34m=\u001B[0m \u001B[0mformat_articles\u001B[0m\u001B[0;34m(\u001B[0m\u001B[0;34m'../data/liberal'\u001B[0m\u001B[0;34m)\u001B[0m\u001B[0;34m\u001B[0m\u001B[0;34m\u001B[0m\u001B[0m\n\u001B[0m\u001B[1;32m      2\u001B[0m \u001B[0;31m# with open('liberal_formatted_articles.pickle', 'wb') as f:\u001B[0m\u001B[0;34m\u001B[0m\u001B[0;34m\u001B[0m\u001B[0m\n\u001B[1;32m      3\u001B[0m \u001B[0;31m#     pickle.dump(liberal_formatted_articles, f)\u001B[0m\u001B[0;34m\u001B[0m\u001B[0;34m\u001B[0m\u001B[0m\n",
      "\u001B[0;32m~/DataspellProjects/word_analysis_project/articles.py\u001B[0m in \u001B[0;36mformat_articles\u001B[0;34m(root_dir)\u001B[0m\n\u001B[1;32m     54\u001B[0m     \u001B[0;31m# Returns a list containing a list of words.\u001B[0m\u001B[0;34m\u001B[0m\u001B[0;34m\u001B[0m\u001B[0m\n\u001B[1;32m     55\u001B[0m     \u001B[0marticle_paths\u001B[0m \u001B[0;34m=\u001B[0m \u001B[0mfilelist\u001B[0m\u001B[0;34m(\u001B[0m\u001B[0mroot_dir\u001B[0m\u001B[0;34m)\u001B[0m\u001B[0;34m\u001B[0m\u001B[0;34m\u001B[0m\u001B[0m\n\u001B[0;32m---> 56\u001B[0;31m     \u001B[0mformatted_articles\u001B[0m \u001B[0;34m=\u001B[0m \u001B[0;34m[\u001B[0m\u001B[0;34m]\u001B[0m\u001B[0;34m\u001B[0m\u001B[0;34m\u001B[0m\u001B[0m\n\u001B[0m\u001B[1;32m     57\u001B[0m     \u001B[0mpb\u001B[0m \u001B[0;34m=\u001B[0m \u001B[0mProgressBar\u001B[0m\u001B[0;34m(\u001B[0m\u001B[0;34m)\u001B[0m\u001B[0;34m\u001B[0m\u001B[0;34m\u001B[0m\u001B[0m\n\u001B[1;32m     58\u001B[0m     \u001B[0;32mfor\u001B[0m \u001B[0marticle_path\u001B[0m \u001B[0;32min\u001B[0m \u001B[0mpb\u001B[0m\u001B[0;34m(\u001B[0m\u001B[0marticle_paths\u001B[0m\u001B[0;34m)\u001B[0m\u001B[0;34m:\u001B[0m\u001B[0;34m\u001B[0m\u001B[0;34m\u001B[0m\u001B[0m\n",
      "\u001B[0;32m~/DataspellProjects/word_analysis_project/articles.py\u001B[0m in \u001B[0;36marticle_preprocessor\u001B[0;34m(article, remove_stopwords, lemmatizer)\u001B[0m\n\u001B[1;32m     35\u001B[0m \u001B[0;34m\u001B[0m\u001B[0m\n\u001B[1;32m     36\u001B[0m \u001B[0;34m\u001B[0m\u001B[0m\n\u001B[0;32m---> 37\u001B[0;31m \u001B[0;32mdef\u001B[0m \u001B[0marticle_preprocessor\u001B[0m\u001B[0;34m(\u001B[0m\u001B[0marticle\u001B[0m\u001B[0;34m,\u001B[0m \u001B[0mstopwords\u001B[0m\u001B[0;34m=\u001B[0m\u001B[0mstp_wrds\u001B[0m\u001B[0;34m,\u001B[0m \u001B[0mlemmatizer\u001B[0m\u001B[0;34m=\u001B[0m\u001B[0;32mTrue\u001B[0m\u001B[0;34m)\u001B[0m\u001B[0;34m:\u001B[0m\u001B[0;34m\u001B[0m\u001B[0;34m\u001B[0m\u001B[0m\n\u001B[0m\u001B[1;32m     38\u001B[0m     \u001B[0mwords\u001B[0m \u001B[0;34m=\u001B[0m \u001B[0msp\u001B[0m\u001B[0;34m(\u001B[0m\u001B[0marticle\u001B[0m\u001B[0;34m)\u001B[0m\u001B[0;34m\u001B[0m\u001B[0;34m\u001B[0m\u001B[0m\n\u001B[1;32m     39\u001B[0m     \u001B[0mwords\u001B[0m \u001B[0;34m=\u001B[0m \u001B[0;34m[\u001B[0m\u001B[0mw\u001B[0m \u001B[0;32mfor\u001B[0m \u001B[0mw\u001B[0m \u001B[0;32min\u001B[0m \u001B[0mwords\u001B[0m \u001B[0;32mif\u001B[0m \u001B[0mw\u001B[0m\u001B[0;34m.\u001B[0m\u001B[0mis_alpha\u001B[0m \u001B[0;32mis\u001B[0m \u001B[0;32mTrue\u001B[0m\u001B[0;34m]\u001B[0m  \u001B[0;31m# remove word/token if it contains numbers\u001B[0m\u001B[0;34m\u001B[0m\u001B[0;34m\u001B[0m\u001B[0m\n",
      "\u001B[0;32m~/opt/anaconda3/lib/python3.9/site-packages/spacy/language.py\u001B[0m in \u001B[0;36m__call__\u001B[0;34m(self, text, disable, component_cfg)\u001B[0m\n\u001B[1;32m   1003\u001B[0m         \u001B[0mDOCS\u001B[0m\u001B[0;34m:\u001B[0m \u001B[0mhttps\u001B[0m\u001B[0;34m:\u001B[0m\u001B[0;34m//\u001B[0m\u001B[0mspacy\u001B[0m\u001B[0;34m.\u001B[0m\u001B[0mio\u001B[0m\u001B[0;34m/\u001B[0m\u001B[0mapi\u001B[0m\u001B[0;34m/\u001B[0m\u001B[0mlanguage\u001B[0m\u001B[0;31m#call\u001B[0m\u001B[0;34m\u001B[0m\u001B[0;34m\u001B[0m\u001B[0m\n\u001B[1;32m   1004\u001B[0m         \"\"\"\n\u001B[0;32m-> 1005\u001B[0;31m         \u001B[0mdoc\u001B[0m \u001B[0;34m=\u001B[0m \u001B[0mself\u001B[0m\u001B[0;34m.\u001B[0m\u001B[0m_ensure_doc\u001B[0m\u001B[0;34m(\u001B[0m\u001B[0mtext\u001B[0m\u001B[0;34m)\u001B[0m\u001B[0;34m\u001B[0m\u001B[0;34m\u001B[0m\u001B[0m\n\u001B[0m\u001B[1;32m   1006\u001B[0m         \u001B[0;32mif\u001B[0m \u001B[0mcomponent_cfg\u001B[0m \u001B[0;32mis\u001B[0m \u001B[0;32mNone\u001B[0m\u001B[0;34m:\u001B[0m\u001B[0;34m\u001B[0m\u001B[0;34m\u001B[0m\u001B[0m\n\u001B[1;32m   1007\u001B[0m             \u001B[0mcomponent_cfg\u001B[0m \u001B[0;34m=\u001B[0m \u001B[0;34m{\u001B[0m\u001B[0;34m}\u001B[0m\u001B[0;34m\u001B[0m\u001B[0;34m\u001B[0m\u001B[0m\n",
      "\u001B[0;32m~/opt/anaconda3/lib/python3.9/site-packages/spacy/language.py\u001B[0m in \u001B[0;36m_ensure_doc\u001B[0;34m(self, doc_like)\u001B[0m\n\u001B[1;32m   1093\u001B[0m             \u001B[0;32mreturn\u001B[0m \u001B[0mdoc_like\u001B[0m\u001B[0;34m\u001B[0m\u001B[0;34m\u001B[0m\u001B[0m\n\u001B[1;32m   1094\u001B[0m         \u001B[0;32mif\u001B[0m \u001B[0misinstance\u001B[0m\u001B[0;34m(\u001B[0m\u001B[0mdoc_like\u001B[0m\u001B[0;34m,\u001B[0m \u001B[0mstr\u001B[0m\u001B[0;34m)\u001B[0m\u001B[0;34m:\u001B[0m\u001B[0;34m\u001B[0m\u001B[0;34m\u001B[0m\u001B[0m\n\u001B[0;32m-> 1095\u001B[0;31m             \u001B[0;32mreturn\u001B[0m \u001B[0mself\u001B[0m\u001B[0;34m.\u001B[0m\u001B[0mmake_doc\u001B[0m\u001B[0;34m(\u001B[0m\u001B[0mdoc_like\u001B[0m\u001B[0;34m)\u001B[0m\u001B[0;34m\u001B[0m\u001B[0;34m\u001B[0m\u001B[0m\n\u001B[0m\u001B[1;32m   1096\u001B[0m         \u001B[0;32mraise\u001B[0m \u001B[0mValueError\u001B[0m\u001B[0;34m(\u001B[0m\u001B[0mErrors\u001B[0m\u001B[0;34m.\u001B[0m\u001B[0mE866\u001B[0m\u001B[0;34m.\u001B[0m\u001B[0mformat\u001B[0m\u001B[0;34m(\u001B[0m\u001B[0mtype\u001B[0m\u001B[0;34m=\u001B[0m\u001B[0mtype\u001B[0m\u001B[0;34m(\u001B[0m\u001B[0mdoc_like\u001B[0m\u001B[0;34m)\u001B[0m\u001B[0;34m)\u001B[0m\u001B[0;34m)\u001B[0m\u001B[0;34m\u001B[0m\u001B[0;34m\u001B[0m\u001B[0m\n\u001B[1;32m   1097\u001B[0m \u001B[0;34m\u001B[0m\u001B[0m\n",
      "\u001B[0;32m~/opt/anaconda3/lib/python3.9/site-packages/spacy/language.py\u001B[0m in \u001B[0;36mmake_doc\u001B[0;34m(self, text)\u001B[0m\n\u001B[1;32m   1086\u001B[0m                 \u001B[0mErrors\u001B[0m\u001B[0;34m.\u001B[0m\u001B[0mE088\u001B[0m\u001B[0;34m.\u001B[0m\u001B[0mformat\u001B[0m\u001B[0;34m(\u001B[0m\u001B[0mlength\u001B[0m\u001B[0;34m=\u001B[0m\u001B[0mlen\u001B[0m\u001B[0;34m(\u001B[0m\u001B[0mtext\u001B[0m\u001B[0;34m)\u001B[0m\u001B[0;34m,\u001B[0m \u001B[0mmax_length\u001B[0m\u001B[0;34m=\u001B[0m\u001B[0mself\u001B[0m\u001B[0;34m.\u001B[0m\u001B[0mmax_length\u001B[0m\u001B[0;34m)\u001B[0m\u001B[0;34m\u001B[0m\u001B[0;34m\u001B[0m\u001B[0m\n\u001B[1;32m   1087\u001B[0m             )\n\u001B[0;32m-> 1088\u001B[0;31m         \u001B[0;32mreturn\u001B[0m \u001B[0mself\u001B[0m\u001B[0;34m.\u001B[0m\u001B[0mtokenizer\u001B[0m\u001B[0;34m(\u001B[0m\u001B[0mtext\u001B[0m\u001B[0;34m)\u001B[0m\u001B[0;34m\u001B[0m\u001B[0;34m\u001B[0m\u001B[0m\n\u001B[0m\u001B[1;32m   1089\u001B[0m \u001B[0;34m\u001B[0m\u001B[0m\n\u001B[1;32m   1090\u001B[0m     \u001B[0;32mdef\u001B[0m \u001B[0m_ensure_doc\u001B[0m\u001B[0;34m(\u001B[0m\u001B[0mself\u001B[0m\u001B[0;34m,\u001B[0m \u001B[0mdoc_like\u001B[0m\u001B[0;34m:\u001B[0m \u001B[0mUnion\u001B[0m\u001B[0;34m[\u001B[0m\u001B[0mstr\u001B[0m\u001B[0;34m,\u001B[0m \u001B[0mDoc\u001B[0m\u001B[0;34m]\u001B[0m\u001B[0;34m)\u001B[0m \u001B[0;34m->\u001B[0m \u001B[0mDoc\u001B[0m\u001B[0;34m:\u001B[0m\u001B[0;34m\u001B[0m\u001B[0;34m\u001B[0m\u001B[0m\n",
      "\u001B[0;32m~/opt/anaconda3/lib/python3.9/site-packages/spacy/tokenizer.pyx\u001B[0m in \u001B[0;36mspacy.tokenizer.Tokenizer.__call__\u001B[0;34m()\u001B[0m\n",
      "\u001B[0;32m~/opt/anaconda3/lib/python3.9/site-packages/spacy/tokenizer.pyx\u001B[0m in \u001B[0;36mspacy.tokenizer.Tokenizer._tokenize_affixes\u001B[0;34m()\u001B[0m\n",
      "\u001B[0;32m~/opt/anaconda3/lib/python3.9/site-packages/spacy/tokenizer.pyx\u001B[0m in \u001B[0;36mspacy.tokenizer.Tokenizer._tokenize\u001B[0;34m()\u001B[0m\n",
      "\u001B[0;32m~/opt/anaconda3/lib/python3.9/site-packages/spacy/tokenizer.pyx\u001B[0m in \u001B[0;36mspacy.tokenizer.Tokenizer._attach_tokens\u001B[0;34m()\u001B[0m\n",
      "\u001B[0;32m~/opt/anaconda3/lib/python3.9/site-packages/spacy/vocab.pyx\u001B[0m in \u001B[0;36mspacy.vocab.Vocab.get\u001B[0;34m()\u001B[0m\n",
      "\u001B[0;32m~/opt/anaconda3/lib/python3.9/site-packages/spacy/vocab.pyx\u001B[0m in \u001B[0;36mspacy.vocab.Vocab._new_lexeme\u001B[0;34m()\u001B[0m\n",
      "\u001B[0;32m~/opt/anaconda3/lib/python3.9/site-packages/spacy/lang/lex_attrs.py\u001B[0m in \u001B[0;36mlower\u001B[0;34m(string)\u001B[0m\n\u001B[1;32m    143\u001B[0m \u001B[0;34m\u001B[0m\u001B[0m\n\u001B[1;32m    144\u001B[0m \u001B[0;34m\u001B[0m\u001B[0m\n\u001B[0;32m--> 145\u001B[0;31m \u001B[0;32mdef\u001B[0m \u001B[0mlower\u001B[0m\u001B[0;34m(\u001B[0m\u001B[0mstring\u001B[0m\u001B[0;34m:\u001B[0m \u001B[0mstr\u001B[0m\u001B[0;34m)\u001B[0m \u001B[0;34m->\u001B[0m \u001B[0mstr\u001B[0m\u001B[0;34m:\u001B[0m\u001B[0;34m\u001B[0m\u001B[0;34m\u001B[0m\u001B[0m\n\u001B[0m\u001B[1;32m    146\u001B[0m     \u001B[0;32mreturn\u001B[0m \u001B[0mstring\u001B[0m\u001B[0;34m.\u001B[0m\u001B[0mlower\u001B[0m\u001B[0;34m(\u001B[0m\u001B[0;34m)\u001B[0m\u001B[0;34m\u001B[0m\u001B[0;34m\u001B[0m\u001B[0m\n\u001B[1;32m    147\u001B[0m \u001B[0;34m\u001B[0m\u001B[0m\n",
      "\u001B[0;31mKeyboardInterrupt\u001B[0m: "
     ]
    }
   ],
   "source": [
    "liberal_formatted_articles = format_articles('../data/liberal')\n",
    "# with open('liberal_formatted_articles.pickle', 'wb') as f:\n",
    "#     pickle.dump(liberal_formatted_articles, f)"
   ],
   "metadata": {
    "collapsed": false,
    "pycharm": {
     "name": "#%%\n"
    }
   }
  },
  {
   "cell_type": "code",
   "execution_count": null,
   "outputs": [],
   "source": [],
   "metadata": {
    "collapsed": false,
    "pycharm": {
     "name": "#%%\n"
    }
   }
  },
  {
   "cell_type": "markdown",
   "source": [
    "## Conservative Articles"
   ],
   "metadata": {
    "collapsed": false,
    "pycharm": {
     "name": "#%% md\n"
    }
   }
  },
  {
   "cell_type": "code",
   "execution_count": 4,
   "outputs": [
    {
     "name": "stderr",
     "output_type": "stream",
     "text": [
      "100% |########################################################################|\r\n"
     ]
    }
   ],
   "source": [
    "conservative_formatted_articles = format_articles('data/conservative')\n",
    "with open('conservative_formatted_articles.pickle', 'wb') as f:\n",
    "    pickle.dump(conservative_formatted_articles, f)"
   ],
   "metadata": {
    "collapsed": false,
    "pycharm": {
     "name": "#%%\n"
    }
   }
  },
  {
   "cell_type": "markdown",
   "source": [
    "# Make word2vec"
   ],
   "metadata": {
    "collapsed": false,
    "pycharm": {
     "name": "#%% md\n"
    }
   }
  },
  {
   "cell_type": "code",
   "execution_count": 5,
   "outputs": [
    {
     "data": {
      "text/plain": "(1500, 1449)"
     },
     "execution_count": 5,
     "metadata": {},
     "output_type": "execute_result"
    }
   ],
   "source": [
    "len(liberal_formatted_articles), len(conservative_formatted_articles)"
   ],
   "metadata": {
    "collapsed": false,
    "pycharm": {
     "name": "#%%\n"
    }
   }
  },
  {
   "cell_type": "code",
   "execution_count": 6,
   "outputs": [],
   "source": [
    "wv_lib = Word2Vec(sentences=liberal_formatted_articles, min_count=5, window=2)"
   ],
   "metadata": {
    "collapsed": false,
    "pycharm": {
     "name": "#%%\n"
    }
   }
  },
  {
   "cell_type": "code",
   "execution_count": 7,
   "outputs": [
    {
     "data": {
      "text/plain": "[('shalanda', 0.8225454688072205),\n ('man', 0.8199350237846375),\n ('gym', 0.7616443634033203),\n ('black', 0.7556401491165161),\n ('brown', 0.7546734809875488),\n ('young', 0.7439227104187012),\n ('hispanic', 0.7413387894630432),\n ('predominantly', 0.7392761707305908),\n ('panther', 0.7377497553825378),\n ('latino', 0.7360959649085999)]"
     },
     "execution_count": 7,
     "metadata": {},
     "output_type": "execute_result"
    }
   ],
   "source": [
    "wv_lib.wv.most_similar('woman', topn=10)"
   ],
   "metadata": {
    "collapsed": false,
    "pycharm": {
     "name": "#%%\n"
    }
   }
  },
  {
   "cell_type": "code",
   "execution_count": 8,
   "outputs": [],
   "source": [
    "wv_con = Word2Vec(sentences=conservative_formatted_articles, min_count=5, window=2)"
   ],
   "metadata": {
    "collapsed": false,
    "pycharm": {
     "name": "#%%\n"
    }
   }
  },
  {
   "cell_type": "code",
   "execution_count": 9,
   "outputs": [
    {
     "data": {
      "text/plain": "[('suspect', 0.8645782470703125),\n ('color', 0.8376492857933044),\n ('slaying', 0.8323799967765808),\n ('spy', 0.7968531250953674),\n ('victim', 0.7935606241226196),\n ('driveway', 0.7784407138824463),\n ('man', 0.7699944972991943),\n ('shoot', 0.7683484554290771),\n ('arbery', 0.7642031908035278),\n ('convict', 0.7538788318634033)]"
     },
     "execution_count": 9,
     "metadata": {},
     "output_type": "execute_result"
    }
   ],
   "source": [
    "wv_con.wv.most_similar('woman', topn=10)"
   ],
   "metadata": {
    "collapsed": false,
    "pycharm": {
     "name": "#%%\n"
    }
   }
  },
  {
   "cell_type": "code",
   "execution_count": 10,
   "outputs": [],
   "source": [
    "def compare(word):\n",
    "    word = sp(word)\n",
    "    word = word[0].lemma_\n",
    "    lib = wv_lib.wv.most_similar(word, topn=10)\n",
    "    lib_words = [word for word, score_ in lib]\n",
    "    con = wv_con.wv.most_similar(word, topn=10)\n",
    "    con_words = [word for word, score_ in con]\n",
    "    df = pd.DataFrame(data=zip(lib_words, con_words), columns=['lib', 'con'])\n",
    "    return df\n"
   ],
   "metadata": {
    "collapsed": false,
    "pycharm": {
     "name": "#%%\n"
    }
   }
  },
  {
   "cell_type": "markdown",
   "source": [
    "The word \"women\" is an interesting find"
   ],
   "metadata": {
    "collapsed": false,
    "pycharm": {
     "name": "#%% md\n"
    }
   }
  },
  {
   "cell_type": "code",
   "execution_count": 11,
   "outputs": [
    {
     "name": "stdout",
     "output_type": "stream",
     "text": [
      "             lib       con\n",
      "0       shalanda   suspect\n",
      "1            man     color\n",
      "2            gym   slaying\n",
      "3          black       spy\n",
      "4          brown    victim\n",
      "5          young  driveway\n",
      "6       hispanic       man\n",
      "7  predominantly     shoot\n",
      "8        panther    arbery\n",
      "9         latino   convict\n"
     ]
    }
   ],
   "source": [
    "print(compare('women'))"
   ],
   "metadata": {
    "collapsed": false,
    "pycharm": {
     "name": "#%%\n"
    }
   }
  },
  {
   "cell_type": "code",
   "execution_count": 12,
   "outputs": [
    {
     "name": "stdout",
     "output_type": "stream",
     "text": [
      "          lib       con\n",
      "0         boy  driveway\n",
      "1    shalanda     black\n",
      "2       woman     twice\n",
      "3        male    arbery\n",
      "4        girl     woman\n",
      "5        folk     shoot\n",
      "6      friend      jail\n",
      "7        guns      bail\n",
      "8  israelites    jogger\n",
      "9        coat     lives\n"
     ]
    }
   ],
   "source": [
    "print(compare('men'))"
   ],
   "metadata": {
    "collapsed": false,
    "pycharm": {
     "name": "#%%\n"
    }
   }
  },
  {
   "cell_type": "code",
   "execution_count": 13,
   "outputs": [
    {
     "name": "stdout",
     "output_type": "stream",
     "text": [
      "              lib             con\n",
      "0       amendment        pressure\n",
      "1          voting           trend\n",
      "2  constitutional      interested\n",
      "3     restriction     significant\n",
      "4        marriage         wealthy\n",
      "5             ban          entire\n",
      "6        restrict             msf\n",
      "7    constitution           lower\n",
      "8             gun  accountability\n",
      "9           lgbtq      vigorously\n"
     ]
    }
   ],
   "source": [
    "print(compare('abortion'))"
   ],
   "metadata": {
    "collapsed": false,
    "pycharm": {
     "name": "#%%\n"
    }
   }
  },
  {
   "cell_type": "code",
   "execution_count": 14,
   "outputs": [
    {
     "name": "stdout",
     "output_type": "stream",
     "text": [
      "           lib           con\n",
      "0    authority      immunity\n",
      "1       pursue       ukraine\n",
      "2    implement      adequate\n",
      "3      enforce           tap\n",
      "4      violate      handling\n",
      "5    challenge       britain\n",
      "6        legal  apprehension\n",
      "7          epa         midst\n",
      "8  affirmative       highway\n",
      "9       uphold     objective\n"
     ]
    }
   ],
   "source": [
    "print(compare('immigration'))"
   ],
   "metadata": {
    "collapsed": false,
    "pycharm": {
     "name": "#%%\n"
    }
   }
  },
  {
   "cell_type": "code",
   "execution_count": 15,
   "outputs": [
    {
     "name": "stdout",
     "output_type": "stream",
     "text": [
      "            lib          con\n",
      "0          abet    immigrant\n",
      "1    applicable      workers\n",
      "2     protocols    frontline\n",
      "3        clause  incentivize\n",
      "4  unauthorized          gas\n",
      "5     ownership     pipeline\n",
      "6    confiscate       supply\n",
      "7          flow    foreigner\n",
      "8        milder          oil\n",
      "9    obligation      propane\n"
     ]
    }
   ],
   "source": [
    "print(compare('illegal'))"
   ],
   "metadata": {
    "collapsed": false,
    "pycharm": {
     "name": "#%%\n"
    }
   }
  },
  {
   "cell_type": "code",
   "execution_count": 16,
   "outputs": [
    {
     "name": "stdout",
     "output_type": "stream",
     "text": [
      "               lib         con\n",
      "0         employee   frontline\n",
      "1         employer        farm\n",
      "2          patient   immigrant\n",
      "3          citizen     workers\n",
      "4  underemployment   essential\n",
      "5          disease  healthcare\n",
      "6              kid    employee\n",
      "7          refugee   safeguard\n",
      "8        condition     illegal\n",
      "9     undocumented   remembers\n"
     ]
    }
   ],
   "source": [
    "print(compare('workers'))"
   ],
   "metadata": {
    "collapsed": false,
    "pycharm": {
     "name": "#%%\n"
    }
   }
  },
  {
   "cell_type": "code",
   "execution_count": 17,
   "outputs": [
    {
     "name": "stdout",
     "output_type": "stream",
     "text": [
      "         lib         con\n",
      "0    killing      felony\n",
      "1    precede      charge\n",
      "2     arbery     assault\n",
      "3    somalia       count\n",
      "4  protester       plead\n",
      "5     rioter     convict\n",
      "6      weiss      malice\n",
      "7     nisman      degree\n",
      "8  allegedly      acquit\n",
      "9      shoot  aggravated\n"
     ]
    }
   ],
   "source": [
    "print(compare('murder'))"
   ],
   "metadata": {
    "collapsed": false,
    "pycharm": {
     "name": "#%%\n"
    }
   }
  },
  {
   "cell_type": "code",
   "execution_count": 18,
   "outputs": [
    {
     "name": "stdout",
     "output_type": "stream",
     "text": [
      "        lib         con\n",
      "0     color       lives\n",
      "1     young    autistic\n",
      "2    latino         man\n",
      "3     brown  irrational\n",
      "4  hispanic       shoot\n",
      "5     lives      injure\n",
      "6   panther      arbery\n",
      "7    latinx         die\n",
      "8     rural        kill\n",
      "9   educate      jogger\n"
     ]
    }
   ],
   "source": [
    "print(compare('black'))"
   ],
   "metadata": {
    "collapsed": false,
    "pycharm": {
     "name": "#%%\n"
    }
   }
  },
  {
   "cell_type": "code",
   "execution_count": 19,
   "outputs": [
    {
     "name": "stdout",
     "output_type": "stream",
     "text": [
      "          lib          con\n",
      "0       rogan         slog\n",
      "1       obama  workmanlike\n",
      "2   lieberman       exotic\n",
      "3      arpaio      veteran\n",
      "4     manchin        obama\n",
      "5     osborne     mentally\n",
      "6      rating      running\n",
      "7        bush        klein\n",
      "8  policymake      manchin\n",
      "9      neguse   acceptable\n"
     ]
    }
   ],
   "source": [
    "print(compare('biden'))"
   ],
   "metadata": {
    "collapsed": false,
    "pycharm": {
     "name": "#%%\n"
    }
   }
  },
  {
   "cell_type": "code",
   "execution_count": 20,
   "outputs": [
    {
     "name": "stdout",
     "output_type": "stream",
     "text": [
      "         lib             con\n",
      "0      versa         premier\n",
      "1       bush            wait\n",
      "2     kamala  disappointment\n",
      "3      rogan      disapprove\n",
      "4     harris          saddle\n",
      "5      obama           pence\n",
      "6      pence           touch\n",
      "7     arpaio            flak\n",
      "8  lieberman      kurtenbach\n",
      "9    osborne         curious\n"
     ]
    }
   ],
   "source": [
    "print(compare('president'))"
   ],
   "metadata": {
    "collapsed": false,
    "pycharm": {
     "name": "#%%\n"
    }
   }
  },
  {
   "cell_type": "code",
   "execution_count": 21,
   "outputs": [
    {
     "name": "stdout",
     "output_type": "stream",
     "text": [
      "                  lib          con\n",
      "0             african         nice\n",
      "1              native          raw\n",
      "2  disproportionately  empowerment\n",
      "3          indigenous      connect\n",
      "4              jewish        thief\n",
      "5            culinary       martin\n",
      "6               cuban          arc\n",
      "7             athlete       excess\n",
      "8               latin    paramedic\n",
      "9              latino      amazing\n"
     ]
    }
   ],
   "source": [
    "print(compare('asian'))"
   ],
   "metadata": {
    "collapsed": false,
    "pycharm": {
     "name": "#%%\n"
    }
   }
  },
  {
   "cell_type": "code",
   "execution_count": 22,
   "outputs": [
    {
     "name": "stdout",
     "output_type": "stream",
     "text": [
      "           lib            con\n",
      "0       suffer         impact\n",
      "1       deadly           dose\n",
      "2       spread       mutation\n",
      "3       danger  transmissible\n",
      "4          flu       fentanyl\n",
      "5  devastating         strain\n",
      "6      unequal          trade\n",
      "7   unpleasant         infect\n",
      "8        covid        economy\n",
      "9  unspeakable      determine\n"
     ]
    }
   ],
   "source": [
    "print(compare('virus'))"
   ],
   "metadata": {
    "collapsed": false,
    "pycharm": {
     "name": "#%%\n"
    }
   }
  },
  {
   "cell_type": "code",
   "execution_count": 23,
   "outputs": [
    {
     "name": "stdout",
     "output_type": "stream",
     "text": [
      "               lib        con\n",
      "0          booster    omicron\n",
      "1             dose   response\n",
      "2         positive    apostle\n",
      "3            virus      alpha\n",
      "4          recover       tony\n",
      "5      coronavirus    disease\n",
      "6     unemployment  household\n",
      "7       administer     detect\n",
      "8  hospitalization      zogby\n",
      "9             toll  diligence\n"
     ]
    }
   ],
   "source": [
    "print(compare('covid'))"
   ],
   "metadata": {
    "collapsed": false,
    "pycharm": {
     "name": "#%%\n"
    }
   }
  },
  {
   "cell_type": "code",
   "execution_count": 24,
   "outputs": [
    {
     "name": "stdout",
     "output_type": "stream",
     "text": [
      "         lib          con\n",
      "0      obama          fed\n",
      "1       bush  uncertainty\n",
      "2  bolsonaro       hijack\n",
      "3     reagan        solid\n",
      "4    clinton         leak\n",
      "5      putin     pollster\n",
      "6     ronald     consider\n",
      "7     harris       harbor\n",
      "8      pence     inherent\n",
      "9  candidacy    calculate\n"
     ]
    }
   ],
   "source": [
    "print(compare('trump'))"
   ],
   "metadata": {
    "collapsed": false,
    "pycharm": {
     "name": "#%%\n"
    }
   }
  },
  {
   "cell_type": "code",
   "execution_count": 25,
   "outputs": [
    {
     "name": "stdout",
     "output_type": "stream",
     "text": [
      "            lib        con\n",
      "0          cold   contrast\n",
      "1  disobedience    embrace\n",
      "2       history     intend\n",
      "3          iraq  donaldson\n",
      "4        europe      singe\n",
      "5        modern   showcase\n",
      "6       culture   dedicate\n",
      "7        terror     cookie\n",
      "8         pride     forget\n",
      "9     liberties        era\n"
     ]
    }
   ],
   "source": [
    "print(compare('war'))"
   ],
   "metadata": {
    "collapsed": false,
    "pycharm": {
     "name": "#%%\n"
    }
   }
  },
  {
   "cell_type": "code",
   "execution_count": 26,
   "outputs": [
    {
     "name": "stdout",
     "output_type": "stream",
     "text": [
      "         lib          con\n",
      "0  inflation  significant\n",
      "1     growth   regulation\n",
      "2    improve       ensure\n",
      "3    develop      wealthy\n",
      "4   recovery     abortion\n",
      "5      solve     pressure\n",
      "6     factor       planet\n",
      "7        fix      predict\n",
      "8       fast      resolve\n",
      "9       risk         poor\n"
     ]
    }
   ],
   "source": [
    "print(compare('economy'))"
   ],
   "metadata": {
    "collapsed": false,
    "pycharm": {
     "name": "#%%\n"
    }
   }
  },
  {
   "cell_type": "code",
   "execution_count": null,
   "outputs": [],
   "source": [],
   "metadata": {
    "collapsed": false,
    "pycharm": {
     "name": "#%%\n"
    }
   }
  }
 ],
 "metadata": {
  "kernelspec": {
   "display_name": "Python 3",
   "language": "python",
   "name": "python3"
  },
  "language_info": {
   "codemirror_mode": {
    "name": "ipython",
    "version": 2
   },
   "file_extension": ".py",
   "mimetype": "text/x-python",
   "name": "python",
   "nbconvert_exporter": "python",
   "pygments_lexer": "ipython2",
   "version": "2.7.6"
  }
 },
 "nbformat": 4,
 "nbformat_minor": 0
}